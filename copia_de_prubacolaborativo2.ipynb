{
  "cells": [
    {
      "cell_type": "code",
      "execution_count": null,
      "metadata": {
        "id": "dEjTrnTkCmzv"
      },
      "outputs": [],
      "source": [
        "__authors__    = \"Luis Angel Gualteros Gil\"\n",
        "__credits__   = [\"Luis Angel Gualteros Gil, PhD\"]\n",
        "__copyright_amp__ = \"(c) Luis Angel Gualteros Gil\"\n",
        "__email__   = \"lagualterosg@correo.udistrital.edu.co\""
      ]
    },
    {
      "cell_type": "markdown",
      "source": [
        "#Parcial 2 -2"
      ],
      "metadata": {
        "id": "WDn7C6UHW8ni"
      }
    },
    {
      "cell_type": "code",
      "source": [
        "# dependences for ploting solid harmonics\n",
        "!dpkg --configure -a\n",
        "!apt install texlive-fonts-recommended texlive-fonts-extra cm-super dvipng\n",
        "%matplotlib inline"
      ],
      "metadata": {
        "id": "4rngSq92ZURf"
      },
      "execution_count": null,
      "outputs": []
    },
    {
      "cell_type": "code",
      "source": [
        "!pip install git+https://github.com/qiskit-community/qiskit-textbook.git#subdirectory=qiskit-textbook-src"
      ],
      "metadata": {
        "id": "-WjNnnXFZTZQ"
      },
      "execution_count": null,
      "outputs": []
    },
    {
      "cell_type": "code",
      "source": [
        "from qiskit import QuantumCircuit, assemble, Aer\n",
        "from qiskit.visualization import plot_histogram\n",
        "from qiskit.visualization import plot_bloch_multivector"
      ],
      "metadata": {
        "id": "H1QprCgJXeI6"
      },
      "execution_count": null,
      "outputs": []
    },
    {
      "cell_type": "markdown",
      "source": [
        "1) Calcule el único qubit unitario ($U$) creado por la secuencia de puertas: $U = XZH$. Utilice el simulador Aer de Qiskit para comprobar sus resultados. Pegue abajo en link al notebook correspondiente o el código correspondiente a su respuesta."
      ],
      "metadata": {
        "id": "tS2ChCUbWZVp"
      }
    },
    {
      "cell_type": "code",
      "source": [
        "qc1 = QuantumCircuit(1)\n",
        "qc1.x(0)\n",
        "qc1.z(0)\n",
        "qc1.h(0)\n",
        "qc1.draw()"
      ],
      "metadata": {
        "colab": {
          "base_uri": "https://localhost:8080/",
          "height": 63
        },
        "id": "b1LjwZVFXMQB",
        "outputId": "6ee6d458-bd3f-4483-d5e0-0155c30e1428"
      },
      "execution_count": null,
      "outputs": [
        {
          "output_type": "execute_result",
          "data": {
            "text/plain": [
              "   ┌───┐┌───┐┌───┐\n",
              "q: ┤ X ├┤ Z ├┤ H ├\n",
              "   └───┘└───┘└───┘"
            ],
            "text/html": [
              "<pre style=\"word-wrap: normal;white-space: pre;background: #fff0;line-height: 1.1;font-family: &quot;Courier New&quot;,Courier,monospace\">   ┌───┐┌───┐┌───┐\n",
              "q: ┤ X ├┤ Z ├┤ H ├\n",
              "   └───┘└───┘└───┘</pre>"
            ]
          },
          "metadata": {},
          "execution_count": 83
        }
      ]
    },
    {
      "cell_type": "code",
      "source": [
        "usim = Aer.get_backend('aer_simulator')\n",
        "qc1.save_unitary()\n",
        "qobj1 = assemble(qc1)\n",
        "unitary = usim.run(qobj1).result().get_unitary()"
      ],
      "metadata": {
        "id": "BBST-rJbYu9I"
      },
      "execution_count": null,
      "outputs": []
    },
    {
      "cell_type": "code",
      "source": [
        "from qiskit.visualization import array_to_latex\n",
        "array_to_latex(unitary, prefix=\"\\\\text{Circuit = }\\n\")"
      ],
      "metadata": {
        "colab": {
          "base_uri": "https://localhost:8080/",
          "height": 68
        },
        "id": "PibOyGEIX-VT",
        "outputId": "fa4854c9-b50c-40d9-816f-7cae7420efd1"
      },
      "execution_count": null,
      "outputs": [
        {
          "output_type": "execute_result",
          "data": {
            "text/plain": [
              "<IPython.core.display.Latex object>"
            ],
            "text/latex": "$$\n\\text{Circuit = }\n\n\\begin{bmatrix}\n-\\tfrac{1}{\\sqrt{2}} & \\tfrac{1}{\\sqrt{2}}  \\\\\n \\tfrac{1}{\\sqrt{2}} & \\tfrac{1}{\\sqrt{2}}  \\\\\n \\end{bmatrix}\n$$"
          },
          "metadata": {},
          "execution_count": 85
        }
      ]
    },
    {
      "cell_type": "markdown",
      "source": [
        "2) Cree un circuito cuántico que produzca el estado Bell:$\\tfrac{1}{\\sqrt{2}}(|01\\rangle + |10\\rangle)$\n",
        "    Utilice el simulador de vector de estado para verificar su resultado. Pegue abajo en link al notebook correspondiente o el código correspondiente a su respuesta\n"
      ],
      "metadata": {
        "id": "gF-7vk0iWOhp"
      }
    },
    {
      "cell_type": "code",
      "source": [
        "qc2 = QuantumCircuit(2)\n",
        "qc2.x(0)\n",
        "qc2.h(1)\n",
        "qc2.cx(1,0)\n",
        "qc2.draw()"
      ],
      "metadata": {
        "colab": {
          "base_uri": "https://localhost:8080/",
          "height": 94
        },
        "id": "U7LvfAxdZcTP",
        "outputId": "f685ee07-b1b6-4160-915c-f41613e59ba3"
      },
      "execution_count": null,
      "outputs": [
        {
          "output_type": "execute_result",
          "data": {
            "text/plain": [
              "     ┌───┐┌───┐\n",
              "q_0: ┤ X ├┤ X ├\n",
              "     ├───┤└─┬─┘\n",
              "q_1: ┤ H ├──■──\n",
              "     └───┘     "
            ],
            "text/html": [
              "<pre style=\"word-wrap: normal;white-space: pre;background: #fff0;line-height: 1.1;font-family: &quot;Courier New&quot;,Courier,monospace\">     ┌───┐┌───┐\n",
              "q_0: ┤ X ├┤ X ├\n",
              "     ├───┤└─┬─┘\n",
              "q_1: ┤ H ├──■──\n",
              "     └───┘     </pre>"
            ]
          },
          "metadata": {},
          "execution_count": 80
        }
      ]
    },
    {
      "cell_type": "code",
      "source": [
        "qc2.save_statevector()\n",
        "qobj2 = assemble(qc2)\n",
        "state2 = sim.run(qobj2).result().get_statevector()"
      ],
      "metadata": {
        "id": "VdMKr3qEg6Xg"
      },
      "execution_count": null,
      "outputs": []
    },
    {
      "cell_type": "code",
      "source": [
        "from qiskit.visualization import array_to_latex\n",
        "array_to_latex(state2, prefix=\"\\\\text{Circuit = }\")"
      ],
      "metadata": {
        "colab": {
          "base_uri": "https://localhost:8080/",
          "height": 47
        },
        "id": "lCLahsrCev0P",
        "outputId": "e99bf4a4-d277-4bb9-b76b-ea5432067d4e"
      },
      "execution_count": null,
      "outputs": [
        {
          "output_type": "execute_result",
          "data": {
            "text/plain": [
              "<IPython.core.display.Latex object>"
            ],
            "text/latex": "$$\n\\text{Circuit = }\n\\begin{bmatrix}\n0 & \\tfrac{1}{\\sqrt{2}} & \\tfrac{1}{\\sqrt{2}} & 0  \\\\\n \\end{bmatrix}\n$$"
          },
          "metadata": {},
          "execution_count": 82
        }
      ]
    },
    {
      "cell_type": "markdown",
      "source": [
        "3) El circuito que creaste en la pregunta anterior transforma el estado $|00\\rangle$ a $\\tfrac{1}{\\sqrt{2}}(|01\\rangle + |10\\rangle)$, calcula la unidad unitaria de este circuito usando Simulador de Qiskit. Verifique que este unitario de hecho realice la transformación correcta. Pegue abajo en link al notebook correspondiente o el código correspondiente a su respuesta."
      ],
      "metadata": {
        "id": "BPJZ50NhWUkZ"
      }
    }
  ],
  "metadata": {
    "colab": {
      "provenance": []
    },
    "kernelspec": {
      "display_name": "Python 3",
      "name": "python3"
    },
    "language_info": {
      "name": "python"
    }
  },
  "nbformat": 4,
  "nbformat_minor": 0
}